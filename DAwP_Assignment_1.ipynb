{
  "nbformat": 4,
  "nbformat_minor": 0,
  "metadata": {
    "colab": {
      "name": "DAwP_Assignment_1.ipynb",
      "provenance": []
    },
    "kernelspec": {
      "name": "python3",
      "display_name": "Python 3"
    }
  },
  "cells": [
    {
      "cell_type": "markdown",
      "metadata": {
        "id": "jjZG7BNlbWtO",
        "colab_type": "text"
      },
      "source": [
        "![](https://i.imgur.com/0AUxkXt.png)"
      ]
    },
    {
      "cell_type": "markdown",
      "metadata": {
        "id": "jbpQzyjqbflM",
        "colab_type": "text"
      },
      "source": [
        "# Assignment 1 - The Hacker Rank\n",
        "\n",
        "HackerRank is a place where programmers from all over the world come together to solve problems in a wide range of Computer Science domains.\n",
        "\n",
        "As you solve more challenges, you earn points and move up the HackerRank Leaderboard.\n",
        "\n",
        "Looking for a job at an awesome company? You can get hired by solving [challenges](https://www.hackerrank.com/jobs/search)!\n",
        "\n",
        "It's cool. Let's establish your knowledge and fight for glory!\n",
        "\n",
        "But before that let's make it clear that.."
      ]
    },
    {
      "cell_type": "markdown",
      "metadata": {
        "id": "-ndmD4naciAN",
        "colab_type": "text"
      },
      "source": [
        "## Note-taking is IMPORTANT\n",
        "\n",
        "Blog: [Why is note-taking important](https://nickblackbourn.com/blog/why-is-note-taking-important/)\n",
        "\n",
        "Note taking isn’t just important for college students, it’s a valuable life skill.\n",
        "\n",
        "Effective note taking helps you to remember information and aids your understanding of that information. \n",
        "\n",
        "**Notes boost your understanding**\n",
        "\n",
        "By making notes, you force yourself to construct a conceptual mental representation of the ideas you are grappling with. It is this process that helps you comprehend the subject matter you are working with.\n",
        "\n",
        "**Notes are a repository of your thinking**\n",
        "\n",
        "When you need to recall something that you came across a while ago, you can go over the main ideas by looking over your notes. This is why good, comprehensive notes are so useful; they are a catalogue of the best ideas you’ve encountered, and what you thought about them.\n",
        "\n",
        "etc.\n",
        "\n",
        "\n",
        "\n",
        "\n",
        "\n",
        "\n",
        "\n"
      ]
    },
    {
      "cell_type": "markdown",
      "metadata": {
        "id": "IGvKPsdVfX-F",
        "colab_type": "text"
      },
      "source": [
        "## Requirements\n",
        "\n",
        "Pick 10 challenges on HackerRank about SQL and 5 about Python in **easy** level:\n",
        "\n",
        "[HackerRank - Domain SQL](https://www.hackerrank.com/domains/sql?filters%5Bdifficulty%5D%5B%5D=easy&filters%5Bsubdomains%5D%5B%5D=select)\n",
        "\n",
        "[HackerRank - Domain Python](https://www.hackerrank.com/domains/python?filters%5Bdifficulty%5D%5B%5D=easy)\n",
        "\n",
        "For each challenge:\n",
        "\n",
        "* Create a markdown cell first that describes the challenge.\n",
        "* Solve the challenge on HackerRank and copy your solution to a code cell below\n",
        "* (Optional) A short description about how you came up with the solution would be awesome."
      ]
    },
    {
      "cell_type": "markdown",
      "metadata": {
        "id": "higGK1Y5iAea",
        "colab_type": "text"
      },
      "source": [
        "## Example"
      ]
    },
    {
      "cell_type": "markdown",
      "metadata": {
        "id": "D2yU2FYDi4tj",
        "colab_type": "text"
      },
      "source": [
        "### SQL"
      ]
    },
    {
      "cell_type": "markdown",
      "metadata": {
        "id": "gu4DDH7Ki77C",
        "colab_type": "text"
      },
      "source": [
        "\n",
        "#### Problem 1\n",
        "\n",
        "Query all columns for all American cities in **CITY** with populations larger than 100000. The CountryCode for America is USA.\n",
        "\n",
        "**Input Format**\n",
        "\n",
        "The **CITY** table is described as follows:\n",
        "\n",
        "| Field | Type |\n",
        "|:----:|:---:|\n",
        "| ID | NUMBER |\n",
        "| NAME | VARCHAR2(17) |\n",
        "| COUNTRYCODE | VARCHAR2(3) |\n",
        "| DISTRICT | VARCHAR2(20) |\n",
        "| POPULATION | NUMBER |"
      ]
    },
    {
      "cell_type": "code",
      "metadata": {
        "id": "hhAwMjyhbT1b",
        "colab_type": "code",
        "colab": {}
      },
      "source": [
        "# Solution\n",
        "# SELECT * from city WHERE population>100000 AND countrycode='USA';"
      ],
      "execution_count": 0,
      "outputs": []
    },
    {
      "cell_type": "markdown",
      "metadata": {
        "id": "0AxyfiJijJ7T",
        "colab_type": "text"
      },
      "source": [
        "### Python"
      ]
    },
    {
      "cell_type": "markdown",
      "metadata": {
        "id": "PEW8LsB5jLqf",
        "colab_type": "text"
      },
      "source": [
        "#### Problem 1\n",
        "\n",
        "**Task** \n",
        "Given an integer, , perform the following conditional actions:\n",
        "\n",
        "* If `n` is odd, print *Weird*\n",
        "* If `n` is even and in the inclusive range of 2 to 5, print *Not Weird*\n",
        "* If `n` is even and in the inclusive range of 6 to 20, print *Weird*\n",
        "* If `n` is even and greater than 20, print *Not Weird*\n",
        "\n",
        "**Input Format**\n",
        "\n",
        "A single line containing a positive integer, .\n",
        "\n",
        "**Output Format**\n",
        "\n",
        "Print Weird if the number is weird; otherwise, print Not Weird."
      ]
    },
    {
      "cell_type": "code",
      "metadata": {
        "id": "JBOxgw0zjLC2",
        "colab_type": "code",
        "colab": {}
      },
      "source": [
        "n = int(input())\n",
        "\n",
        "if n % 2 == 1:\n",
        "    print('Weird')\n",
        "else:\n",
        "    if (n >= 2) and (n <= 5):\n",
        "        print('Not Weird')\n",
        "    elif (n >= 6) and (n <= 20):\n",
        "        print('Weird')\n",
        "    else:\n",
        "        print('Not Weird')"
      ],
      "execution_count": 0,
      "outputs": []
    },
    {
      "cell_type": "markdown",
      "metadata": {
        "id": "a-Q3VE7YkA9A",
        "colab_type": "text"
      },
      "source": [
        "## Your turn\n",
        "\n",
        "Good luck and have fun!"
      ]
    },
    {
      "cell_type": "markdown",
      "metadata": {
        "id": "6P947MhzlUYB",
        "colab_type": "text"
      },
      "source": [
        "### Python"
      ]
    },
    {
      "cell_type": "markdown",
      "metadata": {
        "id": "EDdyPPHpNZK1",
        "colab_type": "text"
      },
      "source": [
        "#### Problem 1: Write a function\n",
        "\n",
        "**Task** \n",
        "\n",
        "You are given the year, and you have to write a function to check if the year is leap or not.\n",
        "\n",
        "Note that you have to complete the function and remaining code is given as template.\n",
        "\n",
        "**Input Format**\n",
        "\n",
        "Read y, the year that needs to be checked.\n",
        "\n",
        "**Output Format**\n",
        "\n",
        "Output is taken care of by the template. Your function must return a boolean value (True/False)"
      ]
    },
    {
      "cell_type": "code",
      "metadata": {
        "id": "zDBQ9WBRTaVg",
        "colab_type": "code",
        "colab": {}
      },
      "source": [
        "# https://www.hackerrank.com/rest/contests/master/challenges/write-a-function/hackers/Danlta1402/download_solution\n",
        "# Solution\n",
        "def is_leap(year):\n",
        "    leap = False\n",
        "    \n",
        "    # Write your logic here\n",
        "    if (year%4==0): leap = True\n",
        "    if (year%100==0): leap = False\n",
        "    if (year%400==0): leap = True\n",
        "    return leap\n"
      ],
      "execution_count": 0,
      "outputs": []
    },
    {
      "cell_type": "markdown",
      "metadata": {
        "id": "4VVfR_dVUiox",
        "colab_type": "text"
      },
      "source": [
        "#### Problem 2: List Comprehensions\n",
        "\n",
        "**Task** \n",
        "\n",
        "Let's learn about list comprehensions! You are given three integers **X, Y** and **Z** representing the dimensions of a cuboid along with an integer **N**. You have to print a list of all possible coordinates given by **(i,j,k)** on a 3D grid where the sum of **i+j+k** is not equal to **N**. Here, **0<=i<=X; 0<=j<=Y; 0<=k<=Z**\n",
        "\n",
        "**Input Format**\n",
        "\n",
        "Four integers **X, Y, Z** and **N** each on four separate lines, respectively.\n",
        "\n",
        "**Output Format**\n",
        "\n",
        "Print the list in lexicographic increasing order."
      ]
    },
    {
      "cell_type": "code",
      "metadata": {
        "id": "vTwuAIboUi2I",
        "colab_type": "code",
        "colab": {}
      },
      "source": [
        "# https://www.hackerrank.com/rest/contests/master/challenges/list-comprehensions/hackers/Danlta1402/download_solution\n",
        "# Solution\n",
        "if __name__ == '__main__':\n",
        "    x = int(input())\n",
        "    y = int(input())\n",
        "    z = int(input())\n",
        "    n = int(input())\n",
        "\n",
        "    result = []\n",
        "    for i in range(x+1):\n",
        "        for j in range(y+1):\n",
        "            for k in range (z+1):\n",
        "                if (i+j+k != n):\n",
        "                    result.append([i, j, k])\n",
        "    print(result)"
      ],
      "execution_count": 0,
      "outputs": []
    },
    {
      "cell_type": "markdown",
      "metadata": {
        "id": "mJvtUbMvUjJg",
        "colab_type": "text"
      },
      "source": [
        "#### Problem 3: Find the Runner-Up Score!\n",
        "\n",
        "**Task** \n",
        "\n",
        "Given the participants' score sheet for your University Sports Day, you are required to find the runner-up score. You are given **n** scores. Store them in a list and find the score of the runner-up.\n",
        "\n",
        "**Input Format**\n",
        "\n",
        "The first line contains **n**. The second line contains an array **A[]** of **n** integers each separated by a space.\n",
        "\n",
        "**Output Format**\n",
        "\n",
        "Print the runner-up score."
      ]
    },
    {
      "cell_type": "code",
      "metadata": {
        "id": "4BxeckDwUjWi",
        "colab_type": "code",
        "colab": {}
      },
      "source": [
        "# https://www.hackerrank.com/rest/contests/master/challenges/find-second-maximum-number-in-a-list/hackers/Danlta1402/download_solution\n",
        "# Solution\n",
        "if __name__ == '__main__':\n",
        "    n = int(input())\n",
        "    arr = map(int, input().split())\n",
        "    setIt = set(arr) #Convert arr to set to remove duplicated number\n",
        "    listIt = list(setIt) #Convert to list and arrange it\n",
        "    listIt.sort()\n",
        "    print(listIt[-2]) # index -2 is the runner-up score"
      ],
      "execution_count": 0,
      "outputs": []
    },
    {
      "cell_type": "markdown",
      "metadata": {
        "id": "VsM8rJkQduYo",
        "colab_type": "text"
      },
      "source": [
        "#### Problem 4: Nested Lists\n",
        "\n",
        "**Task** \n",
        "\n",
        "Given the names and grades for each student in a Physics class of N students, store them in a nested list and print the name(s) of any student(s) having the second lowest grade.\n",
        "\n",
        "**Input Format**\n",
        "\n",
        "The first line contains an integer, **N**, the number of students.\n",
        "\n",
        "The **2N** subsequent lines describe each student over **2** lines; the first line contains a student's name, and the second line contains their grade.\n",
        "\n",
        "**Output Format**\n",
        "\n",
        "Print the name(s) of any student(s) having the second lowest grade in Physics; if there are multiple students, order their names alphabetically and print each one on a new line."
      ]
    },
    {
      "cell_type": "code",
      "metadata": {
        "id": "pyWvGj7odt7y",
        "colab_type": "code",
        "colab": {}
      },
      "source": [
        "# https://www.hackerrank.com/rest/contests/master/challenges/nested-list/hackers/Danlta1402/download_solution\n",
        "# Solution\n",
        "if __name__ == '__main__':\n",
        "    students = []\n",
        "    scores = []\n",
        "    for _ in range(int(input())):\n",
        "        name = input()\n",
        "        score = float(input())\n",
        "        scores.append(score)\n",
        "        students.append([name, score])\n",
        "    students = sorted(students, key = lambda x: x[0]) # Sort array by the first element (name), from A to Z\n",
        "    secondMinVal = sorted(list(set(scores)))[1] #Find the second minimum\n",
        "    respectedStudents = [name for [name, score] in students if score == secondMinVal] #Filter student's name having respected score\n",
        "    for name in respectedStudents:\n",
        "        print(name)"
      ],
      "execution_count": 0,
      "outputs": []
    },
    {
      "cell_type": "markdown",
      "metadata": {
        "id": "RJfsJoN2iny2",
        "colab_type": "text"
      },
      "source": [
        "#### Problem 5: Finding the percentage\n",
        "\n",
        "**Task** \n",
        "\n",
        "You have a record of **N** students. Each record contains the student's name, and their percent marks in Maths, Physics and Chemistry. The marks can be floating values. The user enters some integer **N** followed by the names and marks for **N** students. You are required to save the record in a dictionary data type. The user then enters a student's name. Output the average percentage marks obtained by that student, correct to two decimal places.\n",
        "\n",
        "**Input Format**\n",
        "\n",
        "The first line contains the integer **N**, the number of students. The next **N** lines contains the name and marks obtained by that student separated by a space. The final line contains the name of a particular student previously listed.\n",
        "\n",
        "**Output Format**\n",
        "\n",
        "Print one line: The average of the marks obtained by the particular student correct to 2 decimal places."
      ]
    },
    {
      "cell_type": "code",
      "metadata": {
        "id": "csjpggDfinf8",
        "colab_type": "code",
        "colab": {}
      },
      "source": [
        "# https://www.hackerrank.com/rest/contests/master/challenges/finding-the-percentage/hackers/Danlta1402/download_solution\n",
        "# Solution\n",
        "if __name__ == '__main__':\n",
        "    n = int(input())\n",
        "    student_marks = {}\n",
        "    for _ in range(n):\n",
        "        name, *line = input().split()\n",
        "        scores = list(map(float, line))\n",
        "        student_marks[name] = scores\n",
        "    query_name = input()\n",
        "\n",
        "    Mscore, Pscore, Cscore = student_marks[query_name]\n",
        "    avgscore = (Mscore + Pscore + Cscore)/3\n",
        "    print(\"{0:.2f}\".format(avgscore)) # limit floats to 2 decimal point"
      ],
      "execution_count": 0,
      "outputs": []
    },
    {
      "cell_type": "markdown",
      "metadata": {
        "id": "TeGjOe5mlY36",
        "colab_type": "text"
      },
      "source": [
        "### SQL\n"
      ]
    },
    {
      "cell_type": "markdown",
      "metadata": {
        "id": "wyOp2kZCleKf",
        "colab_type": "text"
      },
      "source": [
        "\n",
        "#### Problem 1: Revising the Select Query II\n",
        "\n",
        "Query the names of all American cities in **CITY** with populations larger than 120000. The CountryCode for America is USA.\n",
        "\n",
        "**Input Format**\n",
        "\n",
        "The **CITY** table is described as follows:\n",
        "\n",
        "| Field | Type |\n",
        "|:----:|:---:|\n",
        "| ID | NUMBER |\n",
        "| NAME | VARCHAR2(17) |\n",
        "| COUNTRYCODE | VARCHAR2(3) |\n",
        "| DISTRICT | VARCHAR2(20) |\n",
        "| POPULATION | NUMBER |"
      ]
    },
    {
      "cell_type": "code",
      "metadata": {
        "id": "kiNfSJ5Jm3LX",
        "colab_type": "code",
        "colab": {}
      },
      "source": [
        "# https://www.hackerrank.com/rest/contests/master/challenges/revising-the-select-query-2/hackers/PRASHANTB1984/download_solution\n",
        "# Solution\n",
        "# SELECT name FROM city WHERE countrycode='USA' AND population>120000;"
      ],
      "execution_count": 0,
      "outputs": []
    },
    {
      "cell_type": "markdown",
      "metadata": {
        "id": "qOUXtBE_nGIR",
        "colab_type": "text"
      },
      "source": [
        "\n",
        "#### Problem 2: Select By ID\n",
        "\n",
        "Query all columns for a city in **CITY** with the ID 1661.\n",
        "\n",
        "**Input Format**\n",
        "\n",
        "The **CITY** table is described as follows:\n",
        "\n",
        "| Field | Type |\n",
        "|:----:|:---:|\n",
        "| ID | NUMBER |\n",
        "| NAME | VARCHAR2(17) |\n",
        "| COUNTRYCODE | VARCHAR2(3) |\n",
        "| DISTRICT | VARCHAR2(20) |\n",
        "| POPULATION | NUMBER |"
      ]
    },
    {
      "cell_type": "code",
      "metadata": {
        "id": "6bIaQ2PFnGTN",
        "colab_type": "code",
        "colab": {}
      },
      "source": [
        "# https://www.hackerrank.com/rest/contests/master/challenges/select-by-id/hackers/Danlta1402/download_solution\n",
        "# Solution\n",
        "# SELECT * FROM city WHERE id = 1661;"
      ],
      "execution_count": 0,
      "outputs": []
    },
    {
      "cell_type": "markdown",
      "metadata": {
        "id": "xG47WRd3oFxq",
        "colab_type": "text"
      },
      "source": [
        "\n",
        "#### Problem 3: Japanese Cities' Attributes\n",
        "\n",
        "\n",
        "Query all attributes of every Japanese city in the **CITY** table. The COUNTRYCODE for Japan is JPN.\n",
        "\n",
        "**Input Format**\n",
        "\n",
        "The **CITY** table is described as follows:\n",
        "\n",
        "| Field | Type |\n",
        "|:----:|:---:|\n",
        "| ID | NUMBER |\n",
        "| NAME | VARCHAR2(17) |\n",
        "| COUNTRYCODE | VARCHAR2(3) |\n",
        "| DISTRICT | VARCHAR2(20) |\n",
        "| POPULATION | NUMBER |"
      ]
    },
    {
      "cell_type": "code",
      "metadata": {
        "id": "zof7D4A1oF41",
        "colab_type": "code",
        "colab": {}
      },
      "source": [
        "# https://www.hackerrank.com/rest/contests/master/challenges/japanese-cities-attributes/hackers/Danlta1402/download_solution\n",
        "# Solution\n",
        "# SELECT * FROM city WHERE countrycode='JPN';"
      ],
      "execution_count": 0,
      "outputs": []
    },
    {
      "cell_type": "markdown",
      "metadata": {
        "id": "2rKfOC45oFU8",
        "colab_type": "text"
      },
      "source": [
        "\n",
        "#### Problem 4: Japanese Cities' Attributes\n",
        "\n",
        "\n",
        "Query the names of all the Japanese cities in the **CITY** table. The COUNTRYCODE for Japan is JPN.\n",
        "\n",
        "**Input Format**\n",
        "\n",
        "The **CITY** table is described as follows:\n",
        "\n",
        "| Field | Type |\n",
        "|:----:|:---:|\n",
        "| ID | NUMBER |\n",
        "| NAME | VARCHAR2(17) |\n",
        "| COUNTRYCODE | VARCHAR2(3) |\n",
        "| DISTRICT | VARCHAR2(20) |\n",
        "| POPULATION | NUMBER |"
      ]
    },
    {
      "cell_type": "code",
      "metadata": {
        "id": "AMB3UoSVoFc4",
        "colab_type": "code",
        "colab": {}
      },
      "source": [
        "# https://www.hackerrank.com/rest/contests/master/challenges/japanese-cities-name/hackers/Danlta1402/download_solution\n",
        "# Solution\n",
        "# SELECT name FROM city WHERE countrycode='JPN';"
      ],
      "execution_count": 0,
      "outputs": []
    },
    {
      "cell_type": "markdown",
      "metadata": {
        "id": "tZKj8v2coGWB",
        "colab_type": "text"
      },
      "source": [
        "\n",
        "#### Problem 5: Weather Observation Station 1\n",
        "\n",
        "Query a list of CITY and STATE from the STATION table.\n",
        "\n",
        "**Input Format**\n",
        "\n",
        "The **STATION** table is described as follows:\n",
        "\n",
        "| Field | Type |\n",
        "|:----:|:---:|\n",
        "| ID | NUMBER |\n",
        "| CITY | VARCHAR2(21) |\n",
        "| STATE | VARCHAR2(2) |\n",
        "| LAT_N | NUMBER |\n",
        "| LONG_W | NUMBER |\n",
        "\n",
        "where LAT_N is the northern latitude and LONG_W is the western longitude."
      ]
    },
    {
      "cell_type": "code",
      "metadata": {
        "id": "Ojal7xlHoGcT",
        "colab_type": "code",
        "colab": {}
      },
      "source": [
        "# https://www.hackerrank.com/rest/contests/master/challenges/japanese-cities-name/hackers/Danlta1402/download_solution\n",
        "# Solution\n",
        "# SELECT city, state FROM station;"
      ],
      "execution_count": 0,
      "outputs": []
    }
  ]
}
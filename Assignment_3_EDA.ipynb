{
 "cells": [
  {
   "cell_type": "markdown",
   "metadata": {
    "colab_type": "text",
    "id": "x7fdTGs4SnyS"
   },
   "source": [
    "![](https://i.imgur.com/0AUxkXt.png)"
   ]
  },
  {
   "cell_type": "markdown",
   "metadata": {
    "colab_type": "text",
    "id": "_uqy69P0Pm0L"
   },
   "source": [
    "# Assignment 3 - From data to insights\n",
    "\n",
    "Before you explore the data, write down a short list of what you expect to see in the data: the distribution of key variables, the relationships between important pairs of them, and so on. Such a list is essentially a prediction based on your current understanding of the business.\n",
    "\n",
    "Now analyze the data. Make plots, do summaries, whatever is needed to see if it matches your expectations.\n",
    "\n",
    "Is there anything that doesn’t match? Anything that makes you go “That’s odd” or “That doesn’t make any sense.”?\n",
    "\n",
    "Zoom in and try to understand what in your business is making that weird thing show up in the data like that. This is the critical step.\n",
    "\n",
    "You may have just found an insight into the business and increased your understanding\n",
    "\n",
    "\n",
    "## The data analysis checklist\n",
    "\n",
    "This checklist can be used as a guide during the process of a data analysis, or as a way to evaluate the quality of a reported data analysis.\n",
    "\n",
    "### Answering the first questions\n",
    "\n",
    "1. Did you define the metric for success before beginning?\n",
    "2. Did you understand the context for the question and business application?\n",
    "3. Did you consider whether the question could be answered with the available data?\n",
    "\n",
    "### Cleaning the data\n",
    "\n",
    "1. Did you identify the missing data?\n",
    "2. Is each variable one column?\n",
    "3. Do different data types appear in each table?\n",
    "4. Did you try to identify any errors or miscoding of variables?\n",
    "5. Did you check for outliers?\n",
    "\n",
    "### Exploratory analysis\n",
    "\n",
    "1. Did you make univariate plots (histogram, distplot, boxplot)?\n",
    "2. Did you consider correlations between variables (scatterplot, jointplot, kde plot, correlation matrix)?\n",
    "3. Did you check the units of all data points to make sure they are in the right range?\n",
    "\n",
    "### Presentations\n",
    "\n",
    "1. Did you lead with a brief, understandable to everyone of your problem?\n",
    "2. Did you explain the data, describe the question of interest?\n",
    "3. Did you make sure all legends and axes were legible from the back of the room?"
   ]
  },
  {
   "cell_type": "markdown",
   "metadata": {
    "colab_type": "text",
    "id": "ZBc0glanPm0M"
   },
   "source": [
    "## Dataset - Online Retailes Purchase\n",
    "\n",
    "Typically e-commerce datasets are proprietary and consequently hard to find among publicly available data. However, [The UCI Machine Learning Repository](http://archive.ics.uci.edu/ml/index.php) has made this dataset containing actual transactions from 2010 and 2011. The dataset is maintained on their site, where it can be found by the title \"Online Retail\".\n",
    "\n",
    "\n",
    "### Step 1 - Checking the data\n",
    "\n",
    "**Import tools set**"
   ]
  },
  {
   "cell_type": "code",
   "execution_count": 79,
   "metadata": {
    "colab": {},
    "colab_type": "code",
    "id": "9Cx3LXxfPm0N"
   },
   "outputs": [],
   "source": [
    "# Your code here\n",
    "import pandas as pd\n",
    "import numpy as np\n",
    "import seaborn as sns\n",
    "import matplotlib.pyplot as plt"
   ]
  },
  {
   "cell_type": "markdown",
   "metadata": {
    "colab_type": "text",
    "id": "mFTQu0j6Pm0Q"
   },
   "source": [
    "**Import data**"
   ]
  },
  {
   "cell_type": "code",
   "execution_count": 80,
   "metadata": {
    "colab": {},
    "colab_type": "code",
    "id": "w0YVchrVPm0R"
   },
   "outputs": [
    {
     "data": {
      "text/html": [
       "<div>\n",
       "<style scoped>\n",
       "    .dataframe tbody tr th:only-of-type {\n",
       "        vertical-align: middle;\n",
       "    }\n",
       "\n",
       "    .dataframe tbody tr th {\n",
       "        vertical-align: top;\n",
       "    }\n",
       "\n",
       "    .dataframe thead th {\n",
       "        text-align: right;\n",
       "    }\n",
       "</style>\n",
       "<table border=\"1\" class=\"dataframe\">\n",
       "  <thead>\n",
       "    <tr style=\"text-align: right;\">\n",
       "      <th></th>\n",
       "      <th>InvoiceNo</th>\n",
       "      <th>StockCode</th>\n",
       "      <th>Description</th>\n",
       "      <th>Quantity</th>\n",
       "      <th>InvoiceDate</th>\n",
       "      <th>UnitPrice</th>\n",
       "      <th>CustomerID</th>\n",
       "      <th>Country</th>\n",
       "    </tr>\n",
       "  </thead>\n",
       "  <tbody>\n",
       "    <tr>\n",
       "      <th>362259</th>\n",
       "      <td>568413</td>\n",
       "      <td>23165</td>\n",
       "      <td>LARGE CERAMIC TOP STORAGE JAR</td>\n",
       "      <td>3</td>\n",
       "      <td>9/27/11 11:01</td>\n",
       "      <td>1.65</td>\n",
       "      <td>14818.0</td>\n",
       "      <td>United Kingdom</td>\n",
       "    </tr>\n",
       "    <tr>\n",
       "      <th>534217</th>\n",
       "      <td>581139</td>\n",
       "      <td>21035</td>\n",
       "      <td>SET/2 RED RETROSPOT TEA TOWELS</td>\n",
       "      <td>100</td>\n",
       "      <td>12/7/11 13:21</td>\n",
       "      <td>2.75</td>\n",
       "      <td>13798.0</td>\n",
       "      <td>United Kingdom</td>\n",
       "    </tr>\n",
       "    <tr>\n",
       "      <th>119568</th>\n",
       "      <td>546552</td>\n",
       "      <td>22150</td>\n",
       "      <td>3 STRIPEY MICE FELTCRAFT</td>\n",
       "      <td>6</td>\n",
       "      <td>3/15/11 8:18</td>\n",
       "      <td>1.95</td>\n",
       "      <td>13082.0</td>\n",
       "      <td>United Kingdom</td>\n",
       "    </tr>\n",
       "    <tr>\n",
       "      <th>206798</th>\n",
       "      <td>554956</td>\n",
       "      <td>23208</td>\n",
       "      <td>LUNCH BAG VINTAGE LEAF DESIGN</td>\n",
       "      <td>1</td>\n",
       "      <td>5/27/11 15:17</td>\n",
       "      <td>4.96</td>\n",
       "      <td>NaN</td>\n",
       "      <td>United Kingdom</td>\n",
       "    </tr>\n",
       "    <tr>\n",
       "      <th>314856</th>\n",
       "      <td>564660</td>\n",
       "      <td>22951</td>\n",
       "      <td>60 CAKE CASES DOLLY GIRL DESIGN</td>\n",
       "      <td>24</td>\n",
       "      <td>8/26/11 14:45</td>\n",
       "      <td>0.55</td>\n",
       "      <td>15074.0</td>\n",
       "      <td>United Kingdom</td>\n",
       "    </tr>\n",
       "    <tr>\n",
       "      <th>130052</th>\n",
       "      <td>547401</td>\n",
       "      <td>84804A</td>\n",
       "      <td>CREAM DELPHINIUM ARTIFICIAL FLOWER</td>\n",
       "      <td>4</td>\n",
       "      <td>3/22/11 17:00</td>\n",
       "      <td>2.95</td>\n",
       "      <td>17576.0</td>\n",
       "      <td>United Kingdom</td>\n",
       "    </tr>\n",
       "    <tr>\n",
       "      <th>178099</th>\n",
       "      <td>552229</td>\n",
       "      <td>22998</td>\n",
       "      <td>TRAVEL CARD WALLET KEEP CALM</td>\n",
       "      <td>1</td>\n",
       "      <td>5/6/11 15:40</td>\n",
       "      <td>0.83</td>\n",
       "      <td>NaN</td>\n",
       "      <td>United Kingdom</td>\n",
       "    </tr>\n",
       "    <tr>\n",
       "      <th>430041</th>\n",
       "      <td>573579</td>\n",
       "      <td>21034</td>\n",
       "      <td>REX CASH+CARRY JUMBO SHOPPER</td>\n",
       "      <td>1</td>\n",
       "      <td>10/31/11 14:19</td>\n",
       "      <td>0.95</td>\n",
       "      <td>15033.0</td>\n",
       "      <td>United Kingdom</td>\n",
       "    </tr>\n",
       "    <tr>\n",
       "      <th>378979</th>\n",
       "      <td>569670</td>\n",
       "      <td>23508</td>\n",
       "      <td>MINI PLAYING CARDS DOLLY GIRL</td>\n",
       "      <td>1</td>\n",
       "      <td>10/5/11 13:47</td>\n",
       "      <td>0.42</td>\n",
       "      <td>14730.0</td>\n",
       "      <td>United Kingdom</td>\n",
       "    </tr>\n",
       "    <tr>\n",
       "      <th>259246</th>\n",
       "      <td>559693</td>\n",
       "      <td>21383</td>\n",
       "      <td>PACK OF 12 STICKY BUNNIES</td>\n",
       "      <td>3</td>\n",
       "      <td>7/11/11 16:21</td>\n",
       "      <td>0.83</td>\n",
       "      <td>NaN</td>\n",
       "      <td>United Kingdom</td>\n",
       "    </tr>\n",
       "  </tbody>\n",
       "</table>\n",
       "</div>"
      ],
      "text/plain": [
       "       InvoiceNo StockCode                         Description  Quantity  \\\n",
       "362259    568413     23165       LARGE CERAMIC TOP STORAGE JAR         3   \n",
       "534217    581139     21035     SET/2 RED RETROSPOT TEA TOWELS        100   \n",
       "119568    546552     22150            3 STRIPEY MICE FELTCRAFT         6   \n",
       "206798    554956     23208       LUNCH BAG VINTAGE LEAF DESIGN         1   \n",
       "314856    564660     22951     60 CAKE CASES DOLLY GIRL DESIGN        24   \n",
       "130052    547401    84804A  CREAM DELPHINIUM ARTIFICIAL FLOWER         4   \n",
       "178099    552229     22998        TRAVEL CARD WALLET KEEP CALM         1   \n",
       "430041    573579     21034        REX CASH+CARRY JUMBO SHOPPER         1   \n",
       "378979    569670     23508      MINI PLAYING CARDS DOLLY GIRL          1   \n",
       "259246    559693     21383           PACK OF 12 STICKY BUNNIES         3   \n",
       "\n",
       "           InvoiceDate  UnitPrice  CustomerID         Country  \n",
       "362259   9/27/11 11:01       1.65     14818.0  United Kingdom  \n",
       "534217   12/7/11 13:21       2.75     13798.0  United Kingdom  \n",
       "119568    3/15/11 8:18       1.95     13082.0  United Kingdom  \n",
       "206798   5/27/11 15:17       4.96         NaN  United Kingdom  \n",
       "314856   8/26/11 14:45       0.55     15074.0  United Kingdom  \n",
       "130052   3/22/11 17:00       2.95     17576.0  United Kingdom  \n",
       "178099    5/6/11 15:40       0.83         NaN  United Kingdom  \n",
       "430041  10/31/11 14:19       0.95     15033.0  United Kingdom  \n",
       "378979   10/5/11 13:47       0.42     14730.0  United Kingdom  \n",
       "259246   7/11/11 16:21       0.83         NaN  United Kingdom  "
      ]
     },
     "execution_count": 80,
     "metadata": {},
     "output_type": "execute_result"
    }
   ],
   "source": [
    "link = \"https://ml101-khanhnguyen.s3-ap-southeast-1.amazonaws.com/devc/Online_Retail.csv\"\n",
    "# link = r'C:\\Users\\anhda\\Downloads\\Online_Retail.csv'\n",
    "# Note: set param encoding = 'latin1'\n",
    "# Your code here\n",
    "ot = pd.read_csv(link, encoding='latin1')\n",
    "ot.sample(10)"
   ]
  },
  {
   "cell_type": "code",
   "execution_count": 81,
   "metadata": {
    "colab": {},
    "colab_type": "code",
    "id": "V3v8D3pTFrYh"
   },
   "outputs": [
    {
     "data": {
      "text/html": [
       "<div>\n",
       "<style scoped>\n",
       "    .dataframe tbody tr th:only-of-type {\n",
       "        vertical-align: middle;\n",
       "    }\n",
       "\n",
       "    .dataframe tbody tr th {\n",
       "        vertical-align: top;\n",
       "    }\n",
       "\n",
       "    .dataframe thead th {\n",
       "        text-align: right;\n",
       "    }\n",
       "</style>\n",
       "<table border=\"1\" class=\"dataframe\">\n",
       "  <thead>\n",
       "    <tr style=\"text-align: right;\">\n",
       "      <th></th>\n",
       "      <th>InvoiceNo</th>\n",
       "      <th>StockCode</th>\n",
       "      <th>Description</th>\n",
       "      <th>Quantity</th>\n",
       "      <th>InvoiceDate</th>\n",
       "      <th>UnitPrice</th>\n",
       "      <th>CustomerID</th>\n",
       "      <th>Country</th>\n",
       "    </tr>\n",
       "  </thead>\n",
       "  <tbody>\n",
       "    <tr>\n",
       "      <th>0</th>\n",
       "      <td>536365</td>\n",
       "      <td>85123A</td>\n",
       "      <td>WHITE HANGING HEART T-LIGHT HOLDER</td>\n",
       "      <td>6</td>\n",
       "      <td>12/1/10 8:26</td>\n",
       "      <td>2.55</td>\n",
       "      <td>17850.0</td>\n",
       "      <td>United Kingdom</td>\n",
       "    </tr>\n",
       "    <tr>\n",
       "      <th>1</th>\n",
       "      <td>536365</td>\n",
       "      <td>71053</td>\n",
       "      <td>WHITE METAL LANTERN</td>\n",
       "      <td>6</td>\n",
       "      <td>12/1/10 8:26</td>\n",
       "      <td>3.39</td>\n",
       "      <td>17850.0</td>\n",
       "      <td>United Kingdom</td>\n",
       "    </tr>\n",
       "    <tr>\n",
       "      <th>2</th>\n",
       "      <td>536365</td>\n",
       "      <td>84406B</td>\n",
       "      <td>CREAM CUPID HEARTS COAT HANGER</td>\n",
       "      <td>8</td>\n",
       "      <td>12/1/10 8:26</td>\n",
       "      <td>2.75</td>\n",
       "      <td>17850.0</td>\n",
       "      <td>United Kingdom</td>\n",
       "    </tr>\n",
       "    <tr>\n",
       "      <th>3</th>\n",
       "      <td>536365</td>\n",
       "      <td>84029G</td>\n",
       "      <td>KNITTED UNION FLAG HOT WATER BOTTLE</td>\n",
       "      <td>6</td>\n",
       "      <td>12/1/10 8:26</td>\n",
       "      <td>3.39</td>\n",
       "      <td>17850.0</td>\n",
       "      <td>United Kingdom</td>\n",
       "    </tr>\n",
       "    <tr>\n",
       "      <th>4</th>\n",
       "      <td>536365</td>\n",
       "      <td>84029E</td>\n",
       "      <td>RED WOOLLY HOTTIE WHITE HEART.</td>\n",
       "      <td>6</td>\n",
       "      <td>12/1/10 8:26</td>\n",
       "      <td>3.39</td>\n",
       "      <td>17850.0</td>\n",
       "      <td>United Kingdom</td>\n",
       "    </tr>\n",
       "  </tbody>\n",
       "</table>\n",
       "</div>"
      ],
      "text/plain": [
       "  InvoiceNo StockCode                          Description  Quantity  \\\n",
       "0    536365    85123A   WHITE HANGING HEART T-LIGHT HOLDER         6   \n",
       "1    536365     71053                  WHITE METAL LANTERN         6   \n",
       "2    536365    84406B       CREAM CUPID HEARTS COAT HANGER         8   \n",
       "3    536365    84029G  KNITTED UNION FLAG HOT WATER BOTTLE         6   \n",
       "4    536365    84029E       RED WOOLLY HOTTIE WHITE HEART.         6   \n",
       "\n",
       "    InvoiceDate  UnitPrice  CustomerID         Country  \n",
       "0  12/1/10 8:26       2.55     17850.0  United Kingdom  \n",
       "1  12/1/10 8:26       3.39     17850.0  United Kingdom  \n",
       "2  12/1/10 8:26       2.75     17850.0  United Kingdom  \n",
       "3  12/1/10 8:26       3.39     17850.0  United Kingdom  \n",
       "4  12/1/10 8:26       3.39     17850.0  United Kingdom  "
      ]
     },
     "execution_count": 81,
     "metadata": {},
     "output_type": "execute_result"
    }
   ],
   "source": [
    "# Print out First 5 rows from dataframe\n",
    "# Your code here\n",
    "ot.head()"
   ]
  },
  {
   "cell_type": "code",
   "execution_count": 82,
   "metadata": {
    "colab": {},
    "colab_type": "code",
    "id": "u4Msf54uFy4w"
   },
   "outputs": [
    {
     "name": "stdout",
     "output_type": "stream",
     "text": [
      "<class 'pandas.core.frame.DataFrame'>\n",
      "RangeIndex: 541909 entries, 0 to 541908\n",
      "Data columns (total 8 columns):\n",
      "InvoiceNo      541909 non-null object\n",
      "StockCode      541909 non-null object\n",
      "Description    540455 non-null object\n",
      "Quantity       541909 non-null int64\n",
      "InvoiceDate    541909 non-null object\n",
      "UnitPrice      541909 non-null float64\n",
      "CustomerID     406829 non-null float64\n",
      "Country        541909 non-null object\n",
      "dtypes: float64(2), int64(1), object(5)\n",
      "memory usage: 33.1+ MB\n"
     ]
    }
   ],
   "source": [
    "# Print out brief info\n",
    "ot.info()"
   ]
  },
  {
   "cell_type": "markdown",
   "metadata": {
    "colab_type": "text",
    "id": "wY6yv3UsPm0k"
   },
   "source": [
    "### Step 2 - Cleaning the data\n",
    "\n",
    "Few of useful data cleaning functions:\n",
    "\n",
    "* `s.astype('category')` # This will convert the datatype of the series to float *Please note that \"s\" here is a Pandas Series\n",
    "\n",
    "* `s.replace(1,'one')` # This will replace all values equal to 1 with 'one'\n",
    "\n",
    "* `s.replace([1,3],['one','three'])` # This will replace all 1 with 'one' and 3 with 'three'\n",
    "\n",
    "* `data.rename(columns=lambda x: x + 1)` # Mass renaming of columns\n",
    "\n",
    "* `data.rename(columns={'oldname': 'new name'})` # Selective renaming\n",
    "\n",
    "* `data.set_index('column_one')` #  This will change the index\n",
    "\n",
    "* `data.rename(index=lambda x: x + 1)` # Mass renaming of index\n",
    "\n",
    "* `data.dropna()` # Remove missing values\n",
    "\n",
    "* `data.fillna(x)` #  This will replaces all null values with x\n",
    "\n",
    "* `s.fillna(s.mean())` # This will replace all null values with the mean (mean can be replaced with almost any function from the below section) :\n",
    "\n",
    "* `data.corr()` # This will return the correlation between columns in a DataFrame\n",
    "\n",
    "* `data.count()` # This will return the number of non-null values in each DataFrame column\n",
    "\n",
    "* `data.max()` # This will return the highest value in each column\n",
    "\n",
    "* `data.min()` # This will return the lowest value in each column\n",
    "\n",
    "* `data.median()` # This will return the median of each column\n",
    "\n",
    "* `data.std()` # This will returns the standard deviation of each column\n"
   ]
  },
  {
   "cell_type": "markdown",
   "metadata": {
    "colab_type": "text",
    "id": "rcNsGWarPm06"
   },
   "source": [
    "**Check for NaN values**"
   ]
  },
  {
   "cell_type": "code",
   "execution_count": 83,
   "metadata": {
    "colab": {},
    "colab_type": "code",
    "id": "TqLxHGy2Pm06"
   },
   "outputs": [
    {
     "data": {
      "text/plain": [
       "InvoiceNo           0\n",
       "StockCode           0\n",
       "Description      1454\n",
       "Quantity            0\n",
       "InvoiceDate         0\n",
       "UnitPrice           0\n",
       "CustomerID     135080\n",
       "Country             0\n",
       "dtype: int64"
      ]
     },
     "execution_count": 83,
     "metadata": {},
     "output_type": "execute_result"
    }
   ],
   "source": [
    "# Your code here\n",
    "ot.isnull().sum()"
   ]
  },
  {
   "cell_type": "markdown",
   "metadata": {
    "colab_type": "text",
    "id": "RdhPk_x1Pm0-"
   },
   "source": [
    "**Examine few examples of NaN values**"
   ]
  },
  {
   "cell_type": "code",
   "execution_count": 84,
   "metadata": {
    "colab": {},
    "colab_type": "code",
    "id": "3kGYpbdOPm0-"
   },
   "outputs": [
    {
     "data": {
      "text/html": [
       "<div>\n",
       "<style scoped>\n",
       "    .dataframe tbody tr th:only-of-type {\n",
       "        vertical-align: middle;\n",
       "    }\n",
       "\n",
       "    .dataframe tbody tr th {\n",
       "        vertical-align: top;\n",
       "    }\n",
       "\n",
       "    .dataframe thead th {\n",
       "        text-align: right;\n",
       "    }\n",
       "</style>\n",
       "<table border=\"1\" class=\"dataframe\">\n",
       "  <thead>\n",
       "    <tr style=\"text-align: right;\">\n",
       "      <th></th>\n",
       "      <th>InvoiceNo</th>\n",
       "      <th>StockCode</th>\n",
       "      <th>Description</th>\n",
       "      <th>Quantity</th>\n",
       "      <th>InvoiceDate</th>\n",
       "      <th>UnitPrice</th>\n",
       "      <th>CustomerID</th>\n",
       "      <th>Country</th>\n",
       "    </tr>\n",
       "  </thead>\n",
       "  <tbody>\n",
       "    <tr>\n",
       "      <th>53804</th>\n",
       "      <td>540848</td>\n",
       "      <td>22161</td>\n",
       "      <td>HEART DECORATION RUSTIC HANGING</td>\n",
       "      <td>2</td>\n",
       "      <td>1/12/11 9:26</td>\n",
       "      <td>0.81</td>\n",
       "      <td>NaN</td>\n",
       "      <td>United Kingdom</td>\n",
       "    </tr>\n",
       "    <tr>\n",
       "      <th>168030</th>\n",
       "      <td>551010</td>\n",
       "      <td>22179</td>\n",
       "      <td>SET 10 LIGHTS NIGHT OWL</td>\n",
       "      <td>1</td>\n",
       "      <td>4/26/11 9:52</td>\n",
       "      <td>13.29</td>\n",
       "      <td>NaN</td>\n",
       "      <td>United Kingdom</td>\n",
       "    </tr>\n",
       "    <tr>\n",
       "      <th>509272</th>\n",
       "      <td>579297</td>\n",
       "      <td>22734</td>\n",
       "      <td>SET OF 6 RIBBONS VINTAGE CHRISTMAS</td>\n",
       "      <td>3</td>\n",
       "      <td>11/29/11 11:23</td>\n",
       "      <td>5.79</td>\n",
       "      <td>NaN</td>\n",
       "      <td>United Kingdom</td>\n",
       "    </tr>\n",
       "    <tr>\n",
       "      <th>54938</th>\n",
       "      <td>540977</td>\n",
       "      <td>21876</td>\n",
       "      <td>POTTERING MUG</td>\n",
       "      <td>1</td>\n",
       "      <td>1/12/11 15:01</td>\n",
       "      <td>1.66</td>\n",
       "      <td>NaN</td>\n",
       "      <td>United Kingdom</td>\n",
       "    </tr>\n",
       "    <tr>\n",
       "      <th>164342</th>\n",
       "      <td>550638</td>\n",
       "      <td>22699</td>\n",
       "      <td>ROSES REGENCY TEACUP AND SAUCER</td>\n",
       "      <td>1</td>\n",
       "      <td>4/19/11 15:44</td>\n",
       "      <td>5.79</td>\n",
       "      <td>NaN</td>\n",
       "      <td>United Kingdom</td>\n",
       "    </tr>\n",
       "    <tr>\n",
       "      <th>251089</th>\n",
       "      <td>559052</td>\n",
       "      <td>21154</td>\n",
       "      <td>RED RETROSPOT OVEN GLOVE</td>\n",
       "      <td>1</td>\n",
       "      <td>7/5/11 16:53</td>\n",
       "      <td>2.46</td>\n",
       "      <td>NaN</td>\n",
       "      <td>United Kingdom</td>\n",
       "    </tr>\n",
       "    <tr>\n",
       "      <th>326991</th>\n",
       "      <td>565617</td>\n",
       "      <td>20700</td>\n",
       "      <td>GREEN CAT FLORAL CUSHION COVER</td>\n",
       "      <td>1</td>\n",
       "      <td>9/5/11 15:30</td>\n",
       "      <td>4.13</td>\n",
       "      <td>NaN</td>\n",
       "      <td>United Kingdom</td>\n",
       "    </tr>\n",
       "    <tr>\n",
       "      <th>279987</th>\n",
       "      <td>561369</td>\n",
       "      <td>90214E</td>\n",
       "      <td>LETTER \"E\" BLING KEY RING</td>\n",
       "      <td>1</td>\n",
       "      <td>7/26/11 16:22</td>\n",
       "      <td>0.83</td>\n",
       "      <td>NaN</td>\n",
       "      <td>United Kingdom</td>\n",
       "    </tr>\n",
       "    <tr>\n",
       "      <th>481654</th>\n",
       "      <td>577358</td>\n",
       "      <td>46776C</td>\n",
       "      <td>WOVEN FROST CUSHION COVER</td>\n",
       "      <td>2</td>\n",
       "      <td>11/18/11 15:59</td>\n",
       "      <td>4.13</td>\n",
       "      <td>NaN</td>\n",
       "      <td>United Kingdom</td>\n",
       "    </tr>\n",
       "    <tr>\n",
       "      <th>181647</th>\n",
       "      <td>552508</td>\n",
       "      <td>22171</td>\n",
       "      <td>3 HOOK PHOTO SHELF ANTIQUE WHITE</td>\n",
       "      <td>1</td>\n",
       "      <td>5/9/11 16:27</td>\n",
       "      <td>16.63</td>\n",
       "      <td>NaN</td>\n",
       "      <td>United Kingdom</td>\n",
       "    </tr>\n",
       "  </tbody>\n",
       "</table>\n",
       "</div>"
      ],
      "text/plain": [
       "       InvoiceNo StockCode                         Description  Quantity  \\\n",
       "53804     540848     22161    HEART DECORATION RUSTIC HANGING          2   \n",
       "168030    551010     22179             SET 10 LIGHTS NIGHT OWL         1   \n",
       "509272    579297     22734  SET OF 6 RIBBONS VINTAGE CHRISTMAS         3   \n",
       "54938     540977     21876                       POTTERING MUG         1   \n",
       "164342    550638     22699    ROSES REGENCY TEACUP AND SAUCER          1   \n",
       "251089    559052     21154           RED RETROSPOT OVEN GLOVE          1   \n",
       "326991    565617     20700     GREEN CAT FLORAL CUSHION COVER          1   \n",
       "279987    561369    90214E           LETTER \"E\" BLING KEY RING         1   \n",
       "481654    577358    46776C           WOVEN FROST CUSHION COVER         2   \n",
       "181647    552508     22171    3 HOOK PHOTO SHELF ANTIQUE WHITE         1   \n",
       "\n",
       "           InvoiceDate  UnitPrice  CustomerID         Country  \n",
       "53804     1/12/11 9:26       0.81         NaN  United Kingdom  \n",
       "168030    4/26/11 9:52      13.29         NaN  United Kingdom  \n",
       "509272  11/29/11 11:23       5.79         NaN  United Kingdom  \n",
       "54938    1/12/11 15:01       1.66         NaN  United Kingdom  \n",
       "164342   4/19/11 15:44       5.79         NaN  United Kingdom  \n",
       "251089    7/5/11 16:53       2.46         NaN  United Kingdom  \n",
       "326991    9/5/11 15:30       4.13         NaN  United Kingdom  \n",
       "279987   7/26/11 16:22       0.83         NaN  United Kingdom  \n",
       "481654  11/18/11 15:59       4.13         NaN  United Kingdom  \n",
       "181647    5/9/11 16:27      16.63         NaN  United Kingdom  "
      ]
     },
     "execution_count": 84,
     "metadata": {},
     "output_type": "execute_result"
    }
   ],
   "source": [
    "# List all NaN values\n",
    "ot[ot['CustomerID'].isnull() | ot['Description'].isnull()].sample(10)\n",
    "#Lấy thông tin các dòng có giá trị ở cột CustomerID và Description là null."
   ]
  },
  {
   "cell_type": "markdown",
   "metadata": {
    "colab_type": "text",
    "id": "OpAhltPeHaLR"
   },
   "source": [
    "**Exclude negative Quatity entries**"
   ]
  },
  {
   "cell_type": "code",
   "execution_count": 85,
   "metadata": {
    "colab": {},
    "colab_type": "code",
    "id": "71F-5PY-HZ6T"
   },
   "outputs": [],
   "source": [
    "negQ_ids = ot[ot['Quantity'] < 0].index.tolist()\n",
    "#Lấy index của các hàng có giá trị trong cột Quantity nhỏ hơn 0\n",
    "ot.drop(labels=negQ_ids, inplace=True)"
   ]
  },
  {
   "cell_type": "markdown",
   "metadata": {
    "colab_type": "text",
    "id": "s5idc5z2H1zJ"
   },
   "source": [
    "**Exclude negative Price entries**"
   ]
  },
  {
   "cell_type": "code",
   "execution_count": 86,
   "metadata": {
    "colab": {},
    "colab_type": "code",
    "id": "_8OdtEVFH1fr"
   },
   "outputs": [],
   "source": [
    "negP_ids = ot[ot['UnitPrice'] < 0].index.tolist()\n",
    "#Lấy index của các hàng có giá trị trong cột UnitPrice nhỏ hơn 0\n",
    "ot.drop(labels=negP_ids, inplace=True)"
   ]
  },
  {
   "cell_type": "markdown",
   "metadata": {
    "colab_type": "text",
    "id": "Ikd1t-v3Pm17"
   },
   "source": [
    "### Step 3 - EDA"
   ]
  },
  {
   "cell_type": "markdown",
   "metadata": {
    "colab_type": "text",
    "id": "-T3iojz1If_r"
   },
   "source": [
    "**The customer with the highest number of orders comes from the United Kingdom (UK)**"
   ]
  },
  {
   "cell_type": "code",
   "execution_count": 87,
   "metadata": {
    "colab": {},
    "colab_type": "code",
    "id": "qIUoWtlPIhxJ"
   },
   "outputs": [
    {
     "name": "stdout",
     "output_type": "stream",
     "text": [
      "The customer with the highest number of orders comes from the United Kingdom (UK): 12748.0\n",
      "With 210 orders\n"
     ]
    }
   ],
   "source": [
    "# Your code here\n",
    "customerInvoice = ot[ot['Country'] == 'United Kingdom'].groupby(['CustomerID','InvoiceNo']).sum().reset_index()\n",
    "#Ban đầu, lọc lấy các dòng có giá trị tại cột Country là United Kingdom\n",
    "#Group theo CustomerID và Invoice để cho ra cấu trúc dữ liệu là 1 CustomerID ứng với 1 InvoiceNO.\n",
    "bestUKCustomer = customerInvoice['CustomerID'].value_counts().index.tolist()[0]\n",
    "#Đếm số tần số xuất hiện của từng giá trị CustomerID, chọn index có tần suất xuất hiện cao nhất\n",
    "print('The customer with the highest number of orders comes from the United Kingdom (UK):', bestUKCustomer)\n",
    "print('With {} orders'.format(customerInvoice['CustomerID'].value_counts().iloc[0]))"
   ]
  },
  {
   "cell_type": "markdown",
   "metadata": {
    "colab_type": "text",
    "id": "9yUfXWelIiTg"
   },
   "source": [
    "**The customer with the highest money spent on purchases comes from Netherlands**"
   ]
  },
  {
   "cell_type": "code",
   "execution_count": 88,
   "metadata": {
    "colab": {},
    "colab_type": "code",
    "id": "qCN_rIThJDRj"
   },
   "outputs": [
    {
     "name": "stdout",
     "output_type": "stream",
     "text": [
      "The customer with the highest money spent on purchases comes from Netherlands: 14646.0\n",
      "With $1954965.21\n"
     ]
    }
   ],
   "source": [
    "# Your code here\n",
    "customerPuchase = ot[ot['Country'] == 'Netherlands'].groupby(['CustomerID', 'Description']).sum().reset_index()\n",
    "#Ban đầu, lọc lấy các dòng có giá trị tại cột Country là Netherlands\n",
    "#Group theo CustomerID và Description để cho ra cấu trúc dữ liệu là 1 CustomerID ứng với 1 Description của\n",
    "#sản phẩm mà người dùng đã mua\n",
    "TotalCol = [customerPuchase['Quantity'].loc[i]*customerPuchase['UnitPrice'].loc[i] for i in range(len(customerPuchase))]\n",
    "customerPuchase['Total'] = TotalCol\n",
    "#Tạo cột thành tiền cho sản phẩm mà người dùng đã mua Quantity*UnitPrice=Total\n",
    "bestNCustomer = customerPuchase.groupby('CustomerID').sum().sort_values(by='Total', ascending=False).iloc[0]\n",
    "#Group theo CustomerID và tính tổng cột Total mà mỗi người dùng đã mua, sắp xếp và chọn thành phần có Total cao nhất.\n",
    "print('The customer with the highest money spent on purchases comes from Netherlands:', bestNCustomer.name)\n",
    "print('With ${}'.format(bestNCustomer['Total']))"
   ]
  },
  {
   "cell_type": "markdown",
   "metadata": {
    "colab_type": "text",
    "id": "UcCxS85hIwLb"
   },
   "source": [
    "**On which year had the highest sales?**"
   ]
  },
  {
   "cell_type": "code",
   "execution_count": 89,
   "metadata": {
    "colab": {},
    "colab_type": "code",
    "id": "i-7RsisUI_gc"
   },
   "outputs": [
    {
     "data": {
      "text/html": [
       "<div>\n",
       "<style scoped>\n",
       "    .dataframe tbody tr th:only-of-type {\n",
       "        vertical-align: middle;\n",
       "    }\n",
       "\n",
       "    .dataframe tbody tr th {\n",
       "        vertical-align: top;\n",
       "    }\n",
       "\n",
       "    .dataframe thead th {\n",
       "        text-align: right;\n",
       "    }\n",
       "</style>\n",
       "<table border=\"1\" class=\"dataframe\">\n",
       "  <thead>\n",
       "    <tr style=\"text-align: right;\">\n",
       "      <th></th>\n",
       "      <th>InvoiceNo</th>\n",
       "      <th>StockCode</th>\n",
       "      <th>Description</th>\n",
       "      <th>Quantity</th>\n",
       "      <th>InvoiceDate</th>\n",
       "      <th>UnitPrice</th>\n",
       "      <th>CustomerID</th>\n",
       "      <th>Country</th>\n",
       "      <th>Total</th>\n",
       "      <th>Year</th>\n",
       "      <th>Month</th>\n",
       "      <th>Date</th>\n",
       "      <th>Hour</th>\n",
       "      <th>Minute</th>\n",
       "    </tr>\n",
       "  </thead>\n",
       "  <tbody>\n",
       "    <tr>\n",
       "      <th>405387</th>\n",
       "      <td>571713</td>\n",
       "      <td>84596G</td>\n",
       "      <td>SMALL CHOCOLATES PINK BOWL</td>\n",
       "      <td>1</td>\n",
       "      <td>10/18/11 16:58</td>\n",
       "      <td>0.83</td>\n",
       "      <td>NaN</td>\n",
       "      <td>United Kingdom</td>\n",
       "      <td>0.83</td>\n",
       "      <td>11</td>\n",
       "      <td>10</td>\n",
       "      <td>18</td>\n",
       "      <td>16</td>\n",
       "      <td>58</td>\n",
       "    </tr>\n",
       "    <tr>\n",
       "      <th>361330</th>\n",
       "      <td>568346</td>\n",
       "      <td>21984</td>\n",
       "      <td>PACK OF 12 PINK PAISLEY TISSUES</td>\n",
       "      <td>2</td>\n",
       "      <td>9/26/11 15:28</td>\n",
       "      <td>0.83</td>\n",
       "      <td>14096.0</td>\n",
       "      <td>United Kingdom</td>\n",
       "      <td>1.66</td>\n",
       "      <td>11</td>\n",
       "      <td>9</td>\n",
       "      <td>26</td>\n",
       "      <td>15</td>\n",
       "      <td>28</td>\n",
       "    </tr>\n",
       "    <tr>\n",
       "      <th>45689</th>\n",
       "      <td>540277</td>\n",
       "      <td>84356</td>\n",
       "      <td>POMPOM CURTAIN</td>\n",
       "      <td>36</td>\n",
       "      <td>1/6/11 12:18</td>\n",
       "      <td>1.95</td>\n",
       "      <td>14258.0</td>\n",
       "      <td>United Kingdom</td>\n",
       "      <td>70.20</td>\n",
       "      <td>11</td>\n",
       "      <td>1</td>\n",
       "      <td>6</td>\n",
       "      <td>12</td>\n",
       "      <td>18</td>\n",
       "    </tr>\n",
       "    <tr>\n",
       "      <th>362924</th>\n",
       "      <td>568528</td>\n",
       "      <td>22865</td>\n",
       "      <td>HAND WARMER OWL DESIGN</td>\n",
       "      <td>12</td>\n",
       "      <td>9/27/11 13:32</td>\n",
       "      <td>2.10</td>\n",
       "      <td>13979.0</td>\n",
       "      <td>United Kingdom</td>\n",
       "      <td>25.20</td>\n",
       "      <td>11</td>\n",
       "      <td>9</td>\n",
       "      <td>27</td>\n",
       "      <td>13</td>\n",
       "      <td>32</td>\n",
       "    </tr>\n",
       "    <tr>\n",
       "      <th>398054</th>\n",
       "      <td>571217</td>\n",
       "      <td>22734</td>\n",
       "      <td>SET OF 6 RIBBONS VINTAGE CHRISTMAS</td>\n",
       "      <td>6</td>\n",
       "      <td>10/14/11 13:24</td>\n",
       "      <td>2.89</td>\n",
       "      <td>17451.0</td>\n",
       "      <td>United Kingdom</td>\n",
       "      <td>17.34</td>\n",
       "      <td>11</td>\n",
       "      <td>10</td>\n",
       "      <td>14</td>\n",
       "      <td>13</td>\n",
       "      <td>24</td>\n",
       "    </tr>\n",
       "    <tr>\n",
       "      <th>388402</th>\n",
       "      <td>570427</td>\n",
       "      <td>23245</td>\n",
       "      <td>SET OF 3 REGENCY CAKE TINS</td>\n",
       "      <td>4</td>\n",
       "      <td>10/10/11 13:56</td>\n",
       "      <td>4.95</td>\n",
       "      <td>17462.0</td>\n",
       "      <td>United Kingdom</td>\n",
       "      <td>19.80</td>\n",
       "      <td>11</td>\n",
       "      <td>10</td>\n",
       "      <td>10</td>\n",
       "      <td>13</td>\n",
       "      <td>56</td>\n",
       "    </tr>\n",
       "    <tr>\n",
       "      <th>233538</th>\n",
       "      <td>557473</td>\n",
       "      <td>22501</td>\n",
       "      <td>PICNIC BASKET WICKER LARGE</td>\n",
       "      <td>2</td>\n",
       "      <td>6/20/11 13:28</td>\n",
       "      <td>9.95</td>\n",
       "      <td>17428.0</td>\n",
       "      <td>United Kingdom</td>\n",
       "      <td>19.90</td>\n",
       "      <td>11</td>\n",
       "      <td>6</td>\n",
       "      <td>20</td>\n",
       "      <td>13</td>\n",
       "      <td>28</td>\n",
       "    </tr>\n",
       "    <tr>\n",
       "      <th>391635</th>\n",
       "      <td>570674</td>\n",
       "      <td>22230</td>\n",
       "      <td>JIGSAW TREE WITH WATERING CAN</td>\n",
       "      <td>48</td>\n",
       "      <td>10/11/11 14:59</td>\n",
       "      <td>0.29</td>\n",
       "      <td>14911.0</td>\n",
       "      <td>EIRE</td>\n",
       "      <td>13.92</td>\n",
       "      <td>11</td>\n",
       "      <td>10</td>\n",
       "      <td>11</td>\n",
       "      <td>14</td>\n",
       "      <td>59</td>\n",
       "    </tr>\n",
       "    <tr>\n",
       "      <th>293349</th>\n",
       "      <td>562593</td>\n",
       "      <td>23275</td>\n",
       "      <td>SET OF 3 HANGING OWLS OLLIE BEAK</td>\n",
       "      <td>5</td>\n",
       "      <td>8/7/11 15:43</td>\n",
       "      <td>1.25</td>\n",
       "      <td>16549.0</td>\n",
       "      <td>United Kingdom</td>\n",
       "      <td>6.25</td>\n",
       "      <td>11</td>\n",
       "      <td>8</td>\n",
       "      <td>7</td>\n",
       "      <td>15</td>\n",
       "      <td>43</td>\n",
       "    </tr>\n",
       "    <tr>\n",
       "      <th>369697</th>\n",
       "      <td>569089</td>\n",
       "      <td>35819B</td>\n",
       "      <td>ACRYLIC HANGING JEWEL,BLUE</td>\n",
       "      <td>17</td>\n",
       "      <td>9/30/11 12:03</td>\n",
       "      <td>0.38</td>\n",
       "      <td>13764.0</td>\n",
       "      <td>United Kingdom</td>\n",
       "      <td>6.46</td>\n",
       "      <td>11</td>\n",
       "      <td>9</td>\n",
       "      <td>30</td>\n",
       "      <td>12</td>\n",
       "      <td>03</td>\n",
       "    </tr>\n",
       "  </tbody>\n",
       "</table>\n",
       "</div>"
      ],
      "text/plain": [
       "       InvoiceNo StockCode                         Description  Quantity  \\\n",
       "405387    571713    84596G          SMALL CHOCOLATES PINK BOWL         1   \n",
       "361330    568346     21984    PACK OF 12 PINK PAISLEY TISSUES          2   \n",
       "45689     540277     84356                      POMPOM CURTAIN        36   \n",
       "362924    568528     22865              HAND WARMER OWL DESIGN        12   \n",
       "398054    571217     22734  SET OF 6 RIBBONS VINTAGE CHRISTMAS         6   \n",
       "388402    570427     23245          SET OF 3 REGENCY CAKE TINS         4   \n",
       "233538    557473     22501          PICNIC BASKET WICKER LARGE         2   \n",
       "391635    570674     22230       JIGSAW TREE WITH WATERING CAN        48   \n",
       "293349    562593     23275    SET OF 3 HANGING OWLS OLLIE BEAK         5   \n",
       "369697    569089    35819B          ACRYLIC HANGING JEWEL,BLUE        17   \n",
       "\n",
       "           InvoiceDate  UnitPrice  CustomerID         Country  Total Year  \\\n",
       "405387  10/18/11 16:58       0.83         NaN  United Kingdom   0.83   11   \n",
       "361330   9/26/11 15:28       0.83     14096.0  United Kingdom   1.66   11   \n",
       "45689     1/6/11 12:18       1.95     14258.0  United Kingdom  70.20   11   \n",
       "362924   9/27/11 13:32       2.10     13979.0  United Kingdom  25.20   11   \n",
       "398054  10/14/11 13:24       2.89     17451.0  United Kingdom  17.34   11   \n",
       "388402  10/10/11 13:56       4.95     17462.0  United Kingdom  19.80   11   \n",
       "233538   6/20/11 13:28       9.95     17428.0  United Kingdom  19.90   11   \n",
       "391635  10/11/11 14:59       0.29     14911.0            EIRE  13.92   11   \n",
       "293349    8/7/11 15:43       1.25     16549.0  United Kingdom   6.25   11   \n",
       "369697   9/30/11 12:03       0.38     13764.0  United Kingdom   6.46   11   \n",
       "\n",
       "       Month Date Hour Minute  \n",
       "405387    10   18   16     58  \n",
       "361330     9   26   15     28  \n",
       "45689      1    6   12     18  \n",
       "362924     9   27   13     32  \n",
       "398054    10   14   13     24  \n",
       "388402    10   10   13     56  \n",
       "233538     6   20   13     28  \n",
       "391635    10   11   14     59  \n",
       "293349     8    7   15     43  \n",
       "369697     9   30   12     03  "
      ]
     },
     "execution_count": 89,
     "metadata": {},
     "output_type": "execute_result"
    }
   ],
   "source": [
    "# Your code here\n",
    "# Date time format: MM/dd/yy hh:mm\n",
    "Total = [ot['Quantity'].iloc[i]*ot['UnitPrice'].iloc[i] for i in range(len(ot))]\n",
    "#Tính toán tổng tiền cho sản phẩm trong mỗi hóa đơn.\n",
    "MDY= (ot['InvoiceDate'].str.split(expand=True)[0]).str.split('/', expand=True)\n",
    "HM = (ot['InvoiceDate'].str.split(expand=True)[1]).str.split(':', expand=True)\n",
    "#Cắt chuỗi và lọc thông tin trong InvoiceDate theo dạng Month, Date, Year (MDY) và Hour, Minute (HM)\n",
    "ot['Total'] = Total\n",
    "ot['Year'], ot['Month'], ot['Date'] = MDY[2], MDY[0], MDY[1]\n",
    "ot['Hour'], ot['Minute'] = HM[0], HM[1]\n",
    "#Thêm các cột Total, Year, Month, Date, Hour, Minute vào (Chạy chương trình sẽ hơi chậm, nhưng làm sẵn cho các bước sau)\n",
    "ot.sample(10)"
   ]
  },
  {
   "cell_type": "code",
   "execution_count": 90,
   "metadata": {},
   "outputs": [
    {
     "name": "stdout",
     "output_type": "stream",
     "text": [
      "the highest sales was on 2011\n"
     ]
    }
   ],
   "source": [
    "highestSalesYear = ot.groupby(['Year']).sum().sort_values(by='Total', ascending=False).index.tolist()[0]\n",
    "#Group theo Year và tính tổng, sắp xếp thứ tự theo Total và chọn phần tử lớn nhất.\n",
    "print('the highest sales was on 2{:03d}'.format(int(highestSalesYear)))"
   ]
  },
  {
   "cell_type": "markdown",
   "metadata": {
    "colab_type": "text",
    "id": "W-IKvzruKHXb"
   },
   "source": [
    "**How many orders (per hour)?**"
   ]
  },
  {
   "cell_type": "code",
   "execution_count": 91,
   "metadata": {
    "colab": {},
    "colab_type": "code",
    "id": "RHS5ridWKQ4u"
   },
   "outputs": [
    {
     "name": "stdout",
     "output_type": "stream",
     "text": [
      "In 2010\n",
      "15    254\n",
      "12    239\n",
      "13    222\n",
      "11    190\n",
      "14    183\n",
      "10    179\n",
      "16    121\n",
      "9     107\n",
      "17     66\n",
      "18     26\n",
      "8      26\n",
      "19     13\n",
      "7       2\n",
      "20      1\n",
      "Name: Hour, dtype: int64\n",
      "In 2011\n",
      "12    3084\n",
      "13    2596\n",
      "14    2372\n",
      "11    2283\n",
      "10    2252\n",
      "15    2220\n",
      "9     1431\n",
      "16    1285\n",
      "17     672\n",
      "8      542\n",
      "18     183\n",
      "19     133\n",
      "7       27\n",
      "20      17\n",
      "6        1\n",
      "Name: Hour, dtype: int64\n"
     ]
    }
   ],
   "source": [
    "ot['Hour'] = ot['Hour'].astype('int')\n",
    "ot['Year'] = ot['Year'].astype('int')\n",
    "ot['Month'] = ot['Month'].astype('int')\n",
    "orderInfo = ot.groupby(['Year', 'Month', 'Date','Hour', 'InvoiceNo']).sum().reset_index()\n",
    "#Group theo Year,..,Hour và InvoiceNo và reset index cho ra dạng dữ liệu mỗi order sẽ có thống tin tương ứng theo thời gian.\n",
    "print('In 2010')\n",
    "print(orderInfo[orderInfo['Year'] == 10]['Hour'].value_counts())\n",
    "print('In 2011')\n",
    "print(orderInfo[orderInfo['Year'] == 11]['Hour'].value_counts())\n",
    "#Vì thời gian mua hàng không trải đều nên sẽ chỉ hiển thị tổng số order vào mỗi giờ trong mỗi năm"
   ]
  },
  {
   "cell_type": "markdown",
   "metadata": {
    "colab_type": "text",
    "id": "dqCZUmx0KKfS"
   },
   "source": [
    "**Make a plot about number of orders per hour**"
   ]
  },
  {
   "cell_type": "code",
   "execution_count": 92,
   "metadata": {
    "colab": {},
    "colab_type": "code",
    "id": "-KPgD51AKKE6"
   },
   "outputs": [
    {
     "data": {
      "image/png": "[encoded data removed]",
      "text/plain": [
       "<Figure size 432x288 with 1 Axes>"
      ]
     },
     "metadata": {
      "needs_background": "light"
     },
     "output_type": "display_data"
    }
   ],
   "source": [
    "chart = sns.countplot(x='Hour', hue='Year', data=orderInfo)\n",
    "#Đề bài khá khó hiểu. Theo ý em thì em sẽ biểu diễn tổng số lượng order theo giờ trong từng năm."
   ]
  },
  {
   "cell_type": "markdown",
   "metadata": {
    "colab_type": "text",
    "id": "-8ZwTvS6L0vS"
   },
   "source": [
    "**How many orders (per month)?**"
   ]
  },
  {
   "cell_type": "code",
   "execution_count": 93,
   "metadata": {
    "colab": {},
    "colab_type": "code",
    "id": "NeOp_6a3L0vX"
   },
   "outputs": [
    {
     "name": "stdout",
     "output_type": "stream",
     "text": [
      "In 2010\n",
      "12    1629\n",
      "Name: Month, dtype: int64\n",
      "In 2011\n",
      "11    2884\n",
      "10    2129\n",
      "9     1896\n",
      "5     1731\n",
      "6     1576\n",
      "7     1540\n",
      "3     1531\n",
      "8     1407\n",
      "4     1319\n",
      "2     1126\n",
      "1     1120\n",
      "12     839\n",
      "Name: Month, dtype: int64\n"
     ]
    }
   ],
   "source": [
    "print('In 2010')\n",
    "print(orderInfo[orderInfo['Year'] == 10]['Month'].value_counts())\n",
    "print('In 2011')\n",
    "print(orderInfo[orderInfo['Year'] == 11]['Month'].value_counts())\n",
    "#Dữ liệu ở năm 2010 không đầy đủ nên dẫn đến sự chênh lệch lớn giữa những lần so sánh các thống số theo từng năm."
   ]
  },
  {
   "cell_type": "markdown",
   "metadata": {
    "colab_type": "text",
    "id": "sOYrMUczL0vb"
   },
   "source": [
    "**Make a plot about number of orders per month**"
   ]
  },
  {
   "cell_type": "code",
   "execution_count": 94,
   "metadata": {
    "colab": {},
    "colab_type": "code",
    "id": "e7RJQ5MbL4cY"
   },
   "outputs": [
    {
     "data": {
      "image/png": "[encoded data removed]",
      "text/plain": [
       "<Figure size 432x288 with 1 Axes>"
      ]
     },
     "metadata": {
      "needs_background": "light"
     },
     "output_type": "display_data"
    }
   ],
   "source": [
    "chart = sns.countplot(y='Month', hue='Year', data=orderInfo)\n",
    "#Tương tự như trên."
   ]
  },
  {
   "cell_type": "markdown",
   "metadata": {
    "colab_type": "text",
    "id": "E3eeyQeBLd6e"
   },
   "source": [
    "**Top 10 items most sales**"
   ]
  },
  {
   "cell_type": "code",
   "execution_count": 95,
   "metadata": {
    "colab": {},
    "colab_type": "code",
    "id": "4trjB9ZjLhEv"
   },
   "outputs": [
    {
     "data": {
      "text/plain": [
       "<seaborn.axisgrid.FacetGrid at 0x1e8ebba0ef0>"
      ]
     },
     "execution_count": 95,
     "metadata": {},
     "output_type": "execute_result"
    },
    {
     "data": {
      "image/png": "[encoded data removed]",
      "text/plain": [
       "<Figure size 648x432 with 1 Axes>"
      ]
     },
     "metadata": {
      "needs_background": "light"
     },
     "output_type": "display_data"
    }
   ],
   "source": [
    "ot['StockCode'] = ot['StockCode'].str.upper().str.strip()\n",
    "#Chuẩn hóa StockCode, loại các khoảng trắng thừa và các kí tự đều phải in hoa\n",
    "top10StockCode = ot.groupby(['StockCode']).sum().reset_index().nlargest(10, 'Quantity')\n",
    "#Group theo StockCode và tính tổng số lượng sản phẩm được bán theo Quantity, chọn top 10.\n",
    "top10StockCode\n",
    "sns.catplot(x='StockCode', y='Quantity', data=top10StockCode, kind='bar', height=6, aspect=1.5)"
   ]
  },
  {
   "cell_type": "markdown",
   "metadata": {
    "colab_type": "text",
    "id": "ggak_TMtLh5o"
   },
   "source": []
  },
  {
   "cell_type": "markdown",
   "metadata": {
    "colab_type": "text",
    "id": "-dEBLw1uPm1-"
   },
   "source": [
    "**Create a histogram with the 10 countries that have the most 'Quantity' ordered except UK**"
   ]
  },
  {
   "cell_type": "code",
   "execution_count": 96,
   "metadata": {
    "colab": {},
    "colab_type": "code",
    "id": "_N-UF331Pm1-"
   },
   "outputs": [
    {
     "data": {
      "text/plain": [
       "<seaborn.axisgrid.FacetGrid at 0x1e8db263978>"
      ]
     },
     "execution_count": 96,
     "metadata": {},
     "output_type": "execute_result"
    },
    {
     "data": {
      "image/png": "[encoded data removed]",
      "text/plain": [
       "<Figure size 648x432 with 1 Axes>"
      ]
     },
     "metadata": {
      "needs_background": "light"
     },
     "output_type": "display_data"
    }
   ],
   "source": [
    "# Your code here\n",
    "top10Country = ot[ot['Country'] != 'United Kingdom'].groupby(['Country']).sum().nlargest(10, 'Quantity').reset_index()\n",
    "#Lọc các hàng không phải từ UK, group theo Country và tính tổng số lượng sản phẩm được bán theo Quantity, chọn top 10.\n",
    "sns.catplot(x='Country', y='Quantity', data=top10Country, kind='bar', height=6, aspect=1.5)\n",
    "# What can you tell about this?\n",
    "# Nước có số lượng sản phẩm được đặt nhiều nhất là Netherlands.\n",
    "# Hầu hết các nước được vào top đều là các nước châu Âu. Chỉ có Australia và Japan là nằm ngoài.\n",
    "# Hết òi, em nghĩ nếu thêm cột tổng số lượng tiền đã chi của mỗi nước ra thì sẽ có cái để nói thêm. Mà thôi,... (lazy)"
   ]
  },
  {
   "cell_type": "markdown",
   "metadata": {
    "colab_type": "text",
    "id": "MoBgPjDiwhdV"
   },
   "source": [
    "### You are awesome!!"
   ]
  }
 ],
 "metadata": {
  "colab": {
   "name": "Assignment_3_EDA.ipynb",
   "provenance": []
  },
  "kernelspec": {
   "display_name": "Python 3",
   "language": "python",
   "name": "python3"
  },
  "language_info": {
   "codemirror_mode": {
    "name": "ipython",
    "version": 3
   },
   "file_extension": ".py",
   "mimetype": "text/x-python",
   "name": "python",
   "nbconvert_exporter": "python",
   "pygments_lexer": "ipython3",
   "version": "3.7.1"
  }
 },
 "nbformat": 4,
 "nbformat_minor": 1
}
